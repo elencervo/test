{
 "cells": [
  {
   "cell_type": "markdown",
   "metadata": {},
   "source": [
    "### Сам себе Шпилькин"
   ]
  },
  {
   "cell_type": "code",
   "execution_count": 1,
   "metadata": {},
   "outputs": [],
   "source": [
    "import pandas as pd\n",
    "import numpy as np"
   ]
  },
  {
   "cell_type": "code",
   "execution_count": 2,
   "metadata": {},
   "outputs": [],
   "source": [
    "data = pd.read_excel('commission.xlsx')"
   ]
  },
  {
   "cell_type": "code",
   "execution_count": 3,
   "metadata": {},
   "outputs": [
    {
     "data": {
      "text/html": [
       "<div>\n",
       "<style scoped>\n",
       "    .dataframe tbody tr th:only-of-type {\n",
       "        vertical-align: middle;\n",
       "    }\n",
       "\n",
       "    .dataframe tbody tr th {\n",
       "        vertical-align: top;\n",
       "    }\n",
       "\n",
       "    .dataframe thead th {\n",
       "        text-align: right;\n",
       "    }\n",
       "</style>\n",
       "<table border=\"1\" class=\"dataframe\">\n",
       "  <thead>\n",
       "    <tr style=\"text-align: right;\">\n",
       "      <th></th>\n",
       "      <th>№</th>\n",
       "      <th>ФИО</th>\n",
       "      <th>Статус</th>\n",
       "      <th>Кем предложен в состав комиссии</th>\n",
       "      <th>№ УИК</th>\n",
       "    </tr>\n",
       "  </thead>\n",
       "  <tbody>\n",
       "    <tr>\n",
       "      <td>0</td>\n",
       "      <td>1</td>\n",
       "      <td>Пелина Ирина Николаевна</td>\n",
       "      <td>Председатель</td>\n",
       "      <td>собрание избирателей по месту работы</td>\n",
       "      <td>2001</td>\n",
       "    </tr>\n",
       "    <tr>\n",
       "      <td>1</td>\n",
       "      <td>2</td>\n",
       "      <td>Изуграфова Светлана Геннадиевна</td>\n",
       "      <td>Зам.председателя</td>\n",
       "      <td>собрание избирателей по месту работы</td>\n",
       "      <td>2001</td>\n",
       "    </tr>\n",
       "    <tr>\n",
       "      <td>2</td>\n",
       "      <td>3</td>\n",
       "      <td>Толочко Ирина Анатольевна</td>\n",
       "      <td>Секретарь</td>\n",
       "      <td>Региональное отделение в Краснодарском крае Вс...</td>\n",
       "      <td>2001</td>\n",
       "    </tr>\n",
       "    <tr>\n",
       "      <td>3</td>\n",
       "      <td>4</td>\n",
       "      <td>Билань Роман Васильевич</td>\n",
       "      <td>Член</td>\n",
       "      <td>Краснодарское местное отделение Краснодарского...</td>\n",
       "      <td>2001</td>\n",
       "    </tr>\n",
       "    <tr>\n",
       "      <td>4</td>\n",
       "      <td>5</td>\n",
       "      <td>Боглаевская Ольга Станиславовна</td>\n",
       "      <td>Член</td>\n",
       "      <td>собрание избирателей по месту работы</td>\n",
       "      <td>2001</td>\n",
       "    </tr>\n",
       "  </tbody>\n",
       "</table>\n",
       "</div>"
      ],
      "text/plain": [
       "   №                              ФИО            Статус  \\\n",
       "0  1          Пелина Ирина Николаевна      Председатель   \n",
       "1  2  Изуграфова Светлана Геннадиевна  Зам.председателя   \n",
       "2  3        Толочко Ирина Анатольевна         Секретарь   \n",
       "3  4          Билань Роман Васильевич              Член   \n",
       "4  5  Боглаевская Ольга Станиславовна              Член   \n",
       "\n",
       "                     Кем предложен в состав комиссии  № УИК  \n",
       "0               собрание избирателей по месту работы   2001  \n",
       "1               собрание избирателей по месту работы   2001  \n",
       "2  Региональное отделение в Краснодарском крае Вс...   2001  \n",
       "3  Краснодарское местное отделение Краснодарского...   2001  \n",
       "4               собрание избирателей по месту работы   2001  "
      ]
     },
     "execution_count": 3,
     "metadata": {},
     "output_type": "execute_result"
    }
   ],
   "source": [
    "data.head()"
   ]
  },
  {
   "cell_type": "code",
   "execution_count": 4,
   "metadata": {},
   "outputs": [
    {
     "name": "stdout",
     "output_type": "stream",
     "text": [
      "<class 'pandas.core.frame.DataFrame'>\n",
      "RangeIndex: 128 entries, 0 to 127\n",
      "Data columns (total 5 columns):\n",
      "№                                  128 non-null int64\n",
      "ФИО                                128 non-null object\n",
      "Статус                             128 non-null object\n",
      "Кем предложен в состав комиссии    128 non-null object\n",
      "№ УИК                              128 non-null int64\n",
      "dtypes: int64(2), object(3)\n",
      "memory usage: 5.1+ KB\n"
     ]
    }
   ],
   "source": [
    "data.info()"
   ]
  },
  {
   "cell_type": "code",
   "execution_count": 5,
   "metadata": {},
   "outputs": [
    {
     "data": {
      "text/plain": [
       "array([2001, 2002, 2003, 2004, 2005, 2006, 2007, 2008])"
      ]
     },
     "execution_count": 5,
     "metadata": {},
     "output_type": "execute_result"
    }
   ],
   "source": [
    "data['№ УИК'].unique()"
   ]
  },
  {
   "cell_type": "markdown",
   "metadata": {},
   "source": [
    "##### Информация о комиссии представлена с 8 избирательных участков"
   ]
  },
  {
   "cell_type": "code",
   "execution_count": 6,
   "metadata": {},
   "outputs": [
    {
     "data": {
      "text/plain": [
       "array(['собрание избирателей по месту работы',\n",
       "       'Региональное отделение в Краснодарском крае Всероссийской политической партии \"Партия пенсионеров России\"',\n",
       "       'Краснодарское местное отделение Краснодарского регионального отделения Всероссийской политической партии \"ЕДИНАЯ РОССИЯ\"',\n",
       "       'Краснодарское краевое отделение политической партии \"КОММУНИСТИЧЕСКАЯ ПАРТИЯ РОССИЙСКОЙ ФЕДЕРАЦИИ\"',\n",
       "       'Региональное отделение Политической партии СПРАВЕДЛИВАЯ РОССИЯ в Краснодарском крае',\n",
       "       'Краснодарское региональное отделение Политической партии ЛДПР - Либерально-демократической партии России',\n",
       "       'Региональное отделение ВСЕРОССИЙСКОЙ ПОЛИТИЧЕСКОЙ ПАРТИИ \"РОДИНА\" в Краснодарском крае',\n",
       "       'Региональное отделение Всероссийской политической партии \"Гражданская Сила\" в Краснодарском крае',\n",
       "       'Общероссийская общественная организация \"Российский Союз ветеранов Афганистана\"',\n",
       "       'Региональное отделение Политической партии \"Казачья партия Российской Федерации\" в Краснодарском крае',\n",
       "       'Региональное отделение в Краснодарском крае Политической партии \"Гражданская платформа\"',\n",
       "       'Региональное отделение в Краснодарском крае Всероссийской политической партии \"ПАРТИЯ РОСТА\"'],\n",
       "      dtype=object)"
      ]
     },
     "execution_count": 6,
     "metadata": {},
     "output_type": "execute_result"
    }
   ],
   "source": [
    "data['Кем предложен в состав комиссии'].unique()"
   ]
  },
  {
   "cell_type": "code",
   "execution_count": 7,
   "metadata": {},
   "outputs": [],
   "source": [
    "def kprf(row):\n",
    "    if 'КОММУНИСТИЧЕСКАЯ ПАРТИЯ РОССИЙСКОЙ ФЕДЕРАЦИИ' in row:\n",
    "        return 1\n",
    "    else:\n",
    "        return 0       "
   ]
  },
  {
   "cell_type": "markdown",
   "metadata": {},
   "source": [
    "###### Проверяем нет ли различных названий партии КПРФ и вводим функцию, которая определят количество представителей КПРФ на каждом избирательном участке"
   ]
  },
  {
   "cell_type": "code",
   "execution_count": 8,
   "metadata": {},
   "outputs": [],
   "source": [
    "data['КПРФ'] = data['Кем предложен в состав комиссии'].apply(kprf)"
   ]
  },
  {
   "cell_type": "code",
   "execution_count": 9,
   "metadata": {},
   "outputs": [
    {
     "data": {
      "text/html": [
       "<div>\n",
       "<style scoped>\n",
       "    .dataframe tbody tr th:only-of-type {\n",
       "        vertical-align: middle;\n",
       "    }\n",
       "\n",
       "    .dataframe tbody tr th {\n",
       "        vertical-align: top;\n",
       "    }\n",
       "\n",
       "    .dataframe thead th {\n",
       "        text-align: right;\n",
       "    }\n",
       "</style>\n",
       "<table border=\"1\" class=\"dataframe\">\n",
       "  <thead>\n",
       "    <tr style=\"text-align: right;\">\n",
       "      <th></th>\n",
       "      <th>КПРФ</th>\n",
       "    </tr>\n",
       "    <tr>\n",
       "      <th>№ УИК</th>\n",
       "      <th></th>\n",
       "    </tr>\n",
       "  </thead>\n",
       "  <tbody>\n",
       "    <tr>\n",
       "      <td>2001</td>\n",
       "      <td>1</td>\n",
       "    </tr>\n",
       "    <tr>\n",
       "      <td>2002</td>\n",
       "      <td>1</td>\n",
       "    </tr>\n",
       "    <tr>\n",
       "      <td>2003</td>\n",
       "      <td>1</td>\n",
       "    </tr>\n",
       "    <tr>\n",
       "      <td>2004</td>\n",
       "      <td>0</td>\n",
       "    </tr>\n",
       "    <tr>\n",
       "      <td>2005</td>\n",
       "      <td>1</td>\n",
       "    </tr>\n",
       "    <tr>\n",
       "      <td>2006</td>\n",
       "      <td>1</td>\n",
       "    </tr>\n",
       "    <tr>\n",
       "      <td>2007</td>\n",
       "      <td>0</td>\n",
       "    </tr>\n",
       "    <tr>\n",
       "      <td>2008</td>\n",
       "      <td>1</td>\n",
       "    </tr>\n",
       "  </tbody>\n",
       "</table>\n",
       "</div>"
      ],
      "text/plain": [
       "       КПРФ\n",
       "№ УИК      \n",
       "2001      1\n",
       "2002      1\n",
       "2003      1\n",
       "2004      0\n",
       "2005      1\n",
       "2006      1\n",
       "2007      0\n",
       "2008      1"
      ]
     },
     "execution_count": 9,
     "metadata": {},
     "output_type": "execute_result"
    }
   ],
   "source": [
    "data_pivot = data.pivot_table(index = '№ УИК', values = 'КПРФ', aggfunc = 'sum')\n",
    "data_pivot"
   ]
  },
  {
   "cell_type": "code",
   "execution_count": 10,
   "metadata": {},
   "outputs": [],
   "source": [
    "kprf = []\n",
    "for i in data_pivot.loc[data_pivot['КПРФ'] != 0].index:\n",
    "    kprf.append(i)"
   ]
  },
  {
   "cell_type": "code",
   "execution_count": 11,
   "metadata": {},
   "outputs": [],
   "source": [
    "not_kprf = []\n",
    "for i in data_pivot.loc[data_pivot['КПРФ'] == 0].index:\n",
    "    not_kprf.append(i)"
   ]
  },
  {
   "cell_type": "code",
   "execution_count": 12,
   "metadata": {},
   "outputs": [
    {
     "name": "stdout",
     "output_type": "stream",
     "text": [
      "2004, 2007\n"
     ]
    }
   ],
   "source": [
    "print(*not_kprf, sep = ', ')"
   ]
  },
  {
   "cell_type": "markdown",
   "metadata": {},
   "source": [
    "##### Выводим номера избирательных участков, в которых нет представителя от КПРФ"
   ]
  },
  {
   "cell_type": "code",
   "execution_count": 13,
   "metadata": {},
   "outputs": [
    {
     "data": {
      "text/html": [
       "<div>\n",
       "<style scoped>\n",
       "    .dataframe tbody tr th:only-of-type {\n",
       "        vertical-align: middle;\n",
       "    }\n",
       "\n",
       "    .dataframe tbody tr th {\n",
       "        vertical-align: top;\n",
       "    }\n",
       "\n",
       "    .dataframe thead th {\n",
       "        text-align: right;\n",
       "    }\n",
       "</style>\n",
       "<table border=\"1\" class=\"dataframe\">\n",
       "  <thead>\n",
       "    <tr style=\"text-align: right;\">\n",
       "      <th></th>\n",
       "      <th>Unnamed: 0</th>\n",
       "      <th>Unnamed: 1</th>\n",
       "      <th>Сумма</th>\n",
       "      <th>УИК №2001</th>\n",
       "      <th>УИК №2002</th>\n",
       "      <th>УИК №2003</th>\n",
       "      <th>УИК №2004</th>\n",
       "      <th>УИК №2005</th>\n",
       "      <th>УИК №2006</th>\n",
       "      <th>УИК №2007</th>\n",
       "      <th>УИК №2008</th>\n",
       "    </tr>\n",
       "  </thead>\n",
       "  <tbody>\n",
       "    <tr>\n",
       "      <td>0</td>\n",
       "      <td>1</td>\n",
       "      <td>Число избирателей, внесенных в список</td>\n",
       "      <td>18257</td>\n",
       "      <td>2517</td>\n",
       "      <td>2164</td>\n",
       "      <td>969</td>\n",
       "      <td>2592</td>\n",
       "      <td>2316</td>\n",
       "      <td>2670</td>\n",
       "      <td>2439</td>\n",
       "      <td>2583</td>\n",
       "    </tr>\n",
       "    <tr>\n",
       "      <td>1</td>\n",
       "      <td>2</td>\n",
       "      <td>Число бюллетеней, полученных участковой комиссией</td>\n",
       "      <td>15607</td>\n",
       "      <td>2100</td>\n",
       "      <td>1800</td>\n",
       "      <td>900</td>\n",
       "      <td>2100</td>\n",
       "      <td>2100</td>\n",
       "      <td>2300</td>\n",
       "      <td>2100</td>\n",
       "      <td>2200</td>\n",
       "    </tr>\n",
       "    <tr>\n",
       "      <td>2</td>\n",
       "      <td>3</td>\n",
       "      <td>Число бюллетеней, выданных избирателям, прогол...</td>\n",
       "      <td>4089</td>\n",
       "      <td>469</td>\n",
       "      <td>813</td>\n",
       "      <td>582</td>\n",
       "      <td>451</td>\n",
       "      <td>683</td>\n",
       "      <td>451</td>\n",
       "      <td>279</td>\n",
       "      <td>361</td>\n",
       "    </tr>\n",
       "    <tr>\n",
       "      <td>3</td>\n",
       "      <td>4</td>\n",
       "      <td>Число бюллетеней, выданных участковой комиссие...</td>\n",
       "      <td>2111</td>\n",
       "      <td>292</td>\n",
       "      <td>394</td>\n",
       "      <td>17</td>\n",
       "      <td>389</td>\n",
       "      <td>239</td>\n",
       "      <td>331</td>\n",
       "      <td>257</td>\n",
       "      <td>185</td>\n",
       "    </tr>\n",
       "    <tr>\n",
       "      <td>4</td>\n",
       "      <td>5</td>\n",
       "      <td>Число бюллетеней, выданных избирателям, прогол...</td>\n",
       "      <td>617</td>\n",
       "      <td>23</td>\n",
       "      <td>0</td>\n",
       "      <td>0</td>\n",
       "      <td>30</td>\n",
       "      <td>8</td>\n",
       "      <td>14</td>\n",
       "      <td>167</td>\n",
       "      <td>375</td>\n",
       "    </tr>\n",
       "  </tbody>\n",
       "</table>\n",
       "</div>"
      ],
      "text/plain": [
       "  Unnamed: 0                                         Unnamed: 1  Сумма  \\\n",
       "0          1              Число избирателей, внесенных в список  18257   \n",
       "1          2  Число бюллетеней, полученных участковой комиссией  15607   \n",
       "2          3  Число бюллетеней, выданных избирателям, прогол...   4089   \n",
       "3          4  Число бюллетеней, выданных участковой комиссие...   2111   \n",
       "4          5  Число бюллетеней, выданных избирателям, прогол...    617   \n",
       "\n",
       "  УИК №2001 УИК №2002 УИК №2003 УИК №2004 УИК №2005 УИК №2006 УИК №2007  \\\n",
       "0      2517      2164       969      2592      2316      2670      2439   \n",
       "1      2100      1800       900      2100      2100      2300      2100   \n",
       "2       469       813       582       451       683       451       279   \n",
       "3       292       394        17       389       239       331       257   \n",
       "4        23         0         0        30         8        14       167   \n",
       "\n",
       "  УИК №2008  \n",
       "0      2583  \n",
       "1      2200  \n",
       "2       361  \n",
       "3       185  \n",
       "4       375  "
      ]
     },
     "execution_count": 13,
     "metadata": {},
     "output_type": "execute_result"
    }
   ],
   "source": [
    "report = pd.read_excel('report.xls')\n",
    "report.head()"
   ]
  },
  {
   "cell_type": "markdown",
   "metadata": {},
   "source": [
    "##### Информация о результатах  по каждому избирательному участку"
   ]
  },
  {
   "cell_type": "code",
   "execution_count": 14,
   "metadata": {},
   "outputs": [
    {
     "data": {
      "text/html": [
       "<div>\n",
       "<style scoped>\n",
       "    .dataframe tbody tr th:only-of-type {\n",
       "        vertical-align: middle;\n",
       "    }\n",
       "\n",
       "    .dataframe tbody tr th {\n",
       "        vertical-align: top;\n",
       "    }\n",
       "\n",
       "    .dataframe thead th {\n",
       "        text-align: right;\n",
       "    }\n",
       "</style>\n",
       "<table border=\"1\" class=\"dataframe\">\n",
       "  <thead>\n",
       "    <tr style=\"text-align: right;\">\n",
       "      <th></th>\n",
       "      <th>Unnamed: 0</th>\n",
       "      <th>Unnamed: 1</th>\n",
       "      <th>Сумма</th>\n",
       "      <th>УИК №2001</th>\n",
       "      <th>УИК №2002</th>\n",
       "      <th>УИК №2003</th>\n",
       "      <th>УИК №2004</th>\n",
       "      <th>УИК №2005</th>\n",
       "      <th>УИК №2006</th>\n",
       "      <th>УИК №2007</th>\n",
       "      <th>УИК №2008</th>\n",
       "    </tr>\n",
       "  </thead>\n",
       "  <tbody>\n",
       "    <tr>\n",
       "      <td>21</td>\n",
       "      <td>17</td>\n",
       "      <td>Политическая партия \"КОММУНИСТИЧЕСКАЯ ПАРТИЯ Р...</td>\n",
       "      <td>901</td>\n",
       "      <td>89</td>\n",
       "      <td>119</td>\n",
       "      <td>72</td>\n",
       "      <td>139</td>\n",
       "      <td>98</td>\n",
       "      <td>165</td>\n",
       "      <td>61</td>\n",
       "      <td>158</td>\n",
       "    </tr>\n",
       "    <tr>\n",
       "      <td>22</td>\n",
       "      <td>NaN</td>\n",
       "      <td>NaN</td>\n",
       "      <td>13.39%</td>\n",
       "      <td>11.35%</td>\n",
       "      <td>9.90%</td>\n",
       "      <td>12.02%</td>\n",
       "      <td>16.35%</td>\n",
       "      <td>10.54%</td>\n",
       "      <td>20.75%</td>\n",
       "      <td>8.68%</td>\n",
       "      <td>18.37%</td>\n",
       "    </tr>\n",
       "  </tbody>\n",
       "</table>\n",
       "</div>"
      ],
      "text/plain": [
       "   Unnamed: 0                                         Unnamed: 1   Сумма  \\\n",
       "21         17  Политическая партия \"КОММУНИСТИЧЕСКАЯ ПАРТИЯ Р...     901   \n",
       "22        NaN                                                NaN  13.39%   \n",
       "\n",
       "   УИК №2001 УИК №2002 УИК №2003 УИК №2004 УИК №2005 УИК №2006 УИК №2007  \\\n",
       "21        89       119        72       139        98       165        61   \n",
       "22    11.35%     9.90%    12.02%    16.35%    10.54%    20.75%     8.68%   \n",
       "\n",
       "   УИК №2008  \n",
       "21       158  \n",
       "22    18.37%  "
      ]
     },
     "execution_count": 14,
     "metadata": {},
     "output_type": "execute_result"
    }
   ],
   "source": [
    "report = report.loc[21:]\n",
    "report"
   ]
  },
  {
   "cell_type": "code",
   "execution_count": 15,
   "metadata": {},
   "outputs": [
    {
     "data": {
      "text/plain": [
       "13.82"
      ]
     },
     "execution_count": 15,
     "metadata": {},
     "output_type": "execute_result"
    }
   ],
   "source": [
    "report_kprf = []\n",
    "for i in kprf:\n",
    "    report_kprf.append(float(report['УИК №'+str(i)].loc[22].replace('%', '')))\n",
    "result_kprf = pd.Series(report_kprf).mean().round(2)\n",
    "result_kprf"
   ]
  },
  {
   "cell_type": "code",
   "execution_count": 16,
   "metadata": {},
   "outputs": [
    {
     "data": {
      "text/plain": [
       "12.52"
      ]
     },
     "execution_count": 16,
     "metadata": {},
     "output_type": "execute_result"
    }
   ],
   "source": [
    "report_not_kprf = []\n",
    "for i in not_kprf:\n",
    "    report_not_kprf.append(float(report['УИК №'+str(i)].loc[22].replace('%', '')))\n",
    "result_not_kprf = pd.Series(report_not_kprf).mean().round(2)\n",
    "result_not_kprf"
   ]
  },
  {
   "cell_type": "markdown",
   "metadata": {},
   "source": [
    "##### Вычисляем среднее значения результатов партии КПРФ на участках, где в избирательных комиссиях были представители от КПРФ и где таких представителей не было"
   ]
  },
  {
   "cell_type": "code",
   "execution_count": 17,
   "metadata": {},
   "outputs": [
    {
     "name": "stdout",
     "output_type": "stream",
     "text": [
      "13.82, 12.52, 1.3\n"
     ]
    }
   ],
   "source": [
    "print(result_kprf, result_not_kprf, abs((result_kprf-result_not_kprf).round(2)), sep=', ')"
   ]
  },
  {
   "cell_type": "markdown",
   "metadata": {},
   "source": [
    "##### Таким образом, результат партии КПРФ на участках, где в избирательных комиссиях был представитель КПРФ оказался на 1,3% выше, чем без представителя"
   ]
  }
 ],
 "metadata": {
  "kernelspec": {
   "display_name": "Python 3",
   "language": "python",
   "name": "python3"
  },
  "language_info": {
   "codemirror_mode": {
    "name": "ipython",
    "version": 3
   },
   "file_extension": ".py",
   "mimetype": "text/x-python",
   "name": "python",
   "nbconvert_exporter": "python",
   "pygments_lexer": "ipython3",
   "version": "3.7.6"
  }
 },
 "nbformat": 4,
 "nbformat_minor": 2
}
